{
  "nbformat": 4,
  "nbformat_minor": 0,
  "metadata": {
    "colab": {
      "provenance": [],
      "authorship_tag": "ABX9TyMnsLFJClkaDNIngMGUpbAR",
      "include_colab_link": true
    },
    "kernelspec": {
      "name": "python3",
      "display_name": "Python 3"
    },
    "language_info": {
      "name": "python"
    }
  },
  "cells": [
    {
      "cell_type": "markdown",
      "metadata": {
        "id": "view-in-github",
        "colab_type": "text"
      },
      "source": [
        "<a href=\"https://colab.research.google.com/github/l24590562-cyber/10EjerciciosUnidad1/blob/main/Cola_Circular_Para_turno.ipynb\" target=\"_parent\"><img src=\"https://colab.research.google.com/assets/colab-badge.svg\" alt=\"Open In Colab\"/></a>"
      ]
    },
    {
      "cell_type": "code",
      "execution_count": 1,
      "metadata": {
        "colab": {
          "base_uri": "https://localhost:8080/"
        },
        "id": "MYAEuOz-_IlU",
        "outputId": "e21511f1-d244-4932-c824-1bb689dc94f4"
      },
      "outputs": [
        {
          "output_type": "stream",
          "name": "stdout",
          "text": [
            "\n",
            "--- Juego de Turnos (Cola Circular) ---\n",
            "1. Agregar jugador\n",
            "2. Mostrar jugadores\n",
            "3. Siguiente turno\n",
            "4. Salir\n",
            "Elige una opción: 1\n",
            "Ingresa el nombre del jugador: Brenda\n",
            "Jugador 'Brenda' agregado al juego.\n",
            "\n",
            "--- Juego de Turnos (Cola Circular) ---\n",
            "1. Agregar jugador\n",
            "2. Mostrar jugadores\n",
            "3. Siguiente turno\n",
            "4. Salir\n",
            "Elige una opción: 1\n",
            "Ingresa el nombre del jugador: Marcos\n",
            "Jugador 'Marcos' agregado al juego.\n",
            "\n",
            "--- Juego de Turnos (Cola Circular) ---\n",
            "1. Agregar jugador\n",
            "2. Mostrar jugadores\n",
            "3. Siguiente turno\n",
            "4. Salir\n",
            "Elige una opción: 2\n",
            "\n",
            "Jugadores en la partida:\n",
            "1. Brenda\n",
            "2. Marcos\n",
            "\n",
            "--- Juego de Turnos (Cola Circular) ---\n",
            "1. Agregar jugador\n",
            "2. Mostrar jugadores\n",
            "3. Siguiente turno\n",
            "4. Salir\n",
            "Elige una opción: 4\n",
            "Fin del juego. ¡Hasta luego!\n",
            "\n",
            "Gracias por utilizar nuestro programa :))... \n",
            "\n"
          ]
        }
      ],
      "source": [
        "#Instituto Tecnológico de san Juan del Rio / Tecnológico Nacional de México\n",
        "#Brenda Avila Gutierrez\n",
        "#Ingenieria en Sistemas Computacionales\n",
        "#Estructura de datos\n",
        "#Grupo \"C\"\n",
        "#Practica 5, Cola circular para turnos\n",
        "\n",
        "def mostrar_menu():\n",
        "    print(\"\\n--- Juego de Turnos (Cola Circular) ---\")\n",
        "    print(\"1. Agregar jugador\")\n",
        "    print(\"2. Mostrar jugadores\")\n",
        "    print(\"3. Siguiente turno\")\n",
        "    print(\"4. Salir\")\n",
        "\n",
        "def juego_turnos():\n",
        "    jugadores = []\n",
        "    turno_actual = 0\n",
        "\n",
        "    while True:\n",
        "        mostrar_menu()\n",
        "        opcion = input(\"Elige una opción: \")\n",
        "\n",
        "        if opcion == \"1\":\n",
        "            nombre = input(\"Ingresa el nombre del jugador: \")\n",
        "            jugadores.append(nombre)\n",
        "            print(f\"Jugador '{nombre}' agregado al juego.\")\n",
        "\n",
        "        elif opcion == \"2\":\n",
        "            if jugadores:\n",
        "                print(\"\\nJugadores en la partida:\")\n",
        "                for i, jugador in enumerate(jugadores, 1):\n",
        "                    print(f\"{i}. {jugador}\")\n",
        "            else:\n",
        "                print(\"No hay jugadores aún.\")\n",
        "\n",
        "        elif opcion == \"3\":\n",
        "            if jugadores:\n",
        "                print(f\"Es el turno de: {jugadores[turno_actual]}\")\n",
        "                input(\"Presiona ENTER cuando termine su turno...\")\n",
        "\n",
        "                turno_actual = (turno_actual + 1) % len(jugadores)\n",
        "            else:\n",
        "                print(\"No hay jugadores para jugar.\")\n",
        "\n",
        "        elif opcion == \"4\":\n",
        "            print(\"Fin del juego. ¡Hasta luego!\")\n",
        "            break\n",
        "\n",
        "        else:\n",
        "            print(\"Opción no válida, intenta de nuevo.\")\n",
        "\n",
        "juego_turnos()\n",
        "print(\"\\nGracias por utilizar nuestro programa :))... \\n\")\n"
      ]
    }
  ]
}