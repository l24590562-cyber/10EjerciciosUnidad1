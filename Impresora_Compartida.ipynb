{
  "nbformat": 4,
  "nbformat_minor": 0,
  "metadata": {
    "colab": {
      "provenance": [],
      "authorship_tag": "ABX9TyM2kouvLGuqDdUdhxsPFmoy",
      "include_colab_link": true
    },
    "kernelspec": {
      "name": "python3",
      "display_name": "Python 3"
    },
    "language_info": {
      "name": "python"
    }
  },
  "cells": [
    {
      "cell_type": "markdown",
      "metadata": {
        "id": "view-in-github",
        "colab_type": "text"
      },
      "source": [
        "<a href=\"https://colab.research.google.com/github/l24590562-cyber/10EjerciciosUnidad1/blob/main/Impresora_Compartida.ipynb\" target=\"_parent\"><img src=\"https://colab.research.google.com/assets/colab-badge.svg\" alt=\"Open In Colab\"/></a>"
      ]
    },
    {
      "cell_type": "code",
      "execution_count": null,
      "metadata": {
        "id": "HOsEgW7d_tRj"
      },
      "outputs": [],
      "source": [
        "from collections import deque\n",
        "import time\n",
        "\n",
        "def mostrar_menu():\n",
        "    print(\"\\n--- Impresora Compartida ---\")\n",
        "    print(\"1. Enviar documento a imprimir\")\n",
        "    print(\"2. Imprimir siguiente documento\")\n",
        "    print(\"3. Mostrar cola de impresión\")\n",
        "    print(\"4. Salir\")\n",
        "\n",
        "def impresora():\n",
        "    cola_impresion = deque()\n",
        "\n",
        "    while True:\n",
        "        mostrar_menu()\n",
        "        opcion = input(\"Elige una opción: \")\n",
        "\n",
        "        if opcion == \"1\":\n",
        "            usuario = input(\"Nombre del usuario: \")\n",
        "            nombre_doc = input(\"Nombre del documento: \")\n",
        "            tamano = int(input(\"Tamaño del documento (en páginas): \"))\n",
        "\n",
        "            documento = {\n",
        "                \"usuario\": usuario,\n",
        "                \"nombre\": nombre_doc,\n",
        "                \"tamano\": tamano\n",
        "            }\n",
        "            cola_impresion.append(documento)\n",
        "            print(f\"Documento '{nombre_doc}' de {usuario} agregado a la cola de impresión.\")\n",
        "\n",
        "        elif opcion == \"2\":\n",
        "            if cola_impresion:\n",
        "                doc = cola_impresion.popleft()\n",
        "                print(f\"\\nImprimiendo '{doc['nombre']}' de {doc['usuario']} ({doc['tamano']} páginas)...\")\n",
        "                time.sleep(1)\n",
        "                print(\"Impresión completada.\")\n",
        "            else:\n",
        "                print(\"No hay documentos en la cola.\")\n",
        "\n",
        "        elif opcion == \"3\":\n",
        "            if cola_impresion:\n",
        "                print(\"\\nDocumentos en cola:\")\n",
        "                for i, doc in enumerate(cola_impresion, 1):\n",
        "                    print(f\"{i}. {doc['nombre']} ({doc['tamano']} páginas) - Usuario: {doc['usuario']}\")\n",
        "            else:\n",
        "                print(\"La cola de impresión está vacía.\")\n",
        "\n",
        "        elif opcion == \"4\":\n",
        "            print(\"Cerrando la impresora compartida...\")\n",
        "            break\n",
        "\n",
        "        else:\n",
        "            print(\"Opción no válida, intenta de nuevo.\")\n",
        "\n",
        "impresora()\n",
        "print(\"\\nGracias por utilizar nuestro programa :))... \\n\")\n"
      ]
    }
  ]
}