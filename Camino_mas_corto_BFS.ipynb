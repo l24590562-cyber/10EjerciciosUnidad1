{
  "nbformat": 4,
  "nbformat_minor": 0,
  "metadata": {
    "colab": {
      "provenance": [],
      "authorship_tag": "ABX9TyO/FhqyZjHtGZ/4m9kTKegL",
      "include_colab_link": true
    },
    "kernelspec": {
      "name": "python3",
      "display_name": "Python 3"
    },
    "language_info": {
      "name": "python"
    }
  },
  "cells": [
    {
      "cell_type": "markdown",
      "metadata": {
        "id": "view-in-github",
        "colab_type": "text"
      },
      "source": [
        "<a href=\"https://colab.research.google.com/github/l24590562-cyber/10EjerciciosUnidad1/blob/main/Camino_mas_corto_BFS.ipynb\" target=\"_parent\"><img src=\"https://colab.research.google.com/assets/colab-badge.svg\" alt=\"Open In Colab\"/></a>"
      ]
    },
    {
      "cell_type": "code",
      "execution_count": null,
      "metadata": {
        "id": "nImivo-dAe_c"
      },
      "outputs": [],
      "source": [
        "#Instituto Tecnológico de san Juan del Rio / Tecnológico Nacional de México\n",
        "#Brenda Avila Gutierrez\n",
        "#Ingenieria en Sistemas Computacionales\n",
        "#Estructura de datos\n",
        "#Grupo \"C\"\n",
        "#Practica 8, Camino más corto con BFS\n",
        "\n",
        "from collections import deque, defaultdict\n",
        "\n",
        "class Grafo:\n",
        "    def __init__(self):\n",
        "        self.grafo = defaultdict(list)\n",
        "\n",
        "    def agregar_conexion(self, origen, destino):\n",
        "        self.grafo[origen].append(destino)\n",
        "        self.grafo[destino].append(origen)\n",
        "\n",
        "    def camino_mas_corto(self, inicio, fin):\n",
        "        visitado = {inicio}\n",
        "        cola = deque([[inicio]])\n",
        "\n",
        "        while cola:\n",
        "            camino = cola.popleft()\n",
        "            nodo = camino[-1]\n",
        "\n",
        "            if nodo == fin:\n",
        "                print(f\"Camino más corto encontrado: {' → '.join(camino)}\")\n",
        "                print(f\"Distancia mínima: {len(camino) - 1} aristas\")\n",
        "                return\n",
        "\n",
        "            for vecino in self.grafo[nodo]:\n",
        "                if vecino not in visitado:\n",
        "                    visitado.add(vecino)\n",
        "                    nuevo_camino = list(camino)\n",
        "                    nuevo_camino.append(vecino)\n",
        "                    cola.append(nuevo_camino)\n",
        "\n",
        "        print(\"No hay camino entre las ciudades indicadas.\")\n",
        "\n",
        "def menu():\n",
        "    mapa = Grafo()\n",
        "\n",
        "    while True:\n",
        "        print(\"\\n--- Camino más corto (BFS) ---\")\n",
        "        print(\"1. Agregar conexión entre nodos\")\n",
        "        print(\"2. Mostrar conexiones\")\n",
        "        print(\"3. Buscar camino más corto\")\n",
        "        print(\"4. Salir\")\n",
        "\n",
        "        opcion = input(\"Elige una opción: \")\n",
        "\n",
        "        if opcion == \"1\":\n",
        "            origen = input(\"Nodo de origen: \")\n",
        "            destino = input(\"Nodo de destino: \")\n",
        "            mapa.agregar_conexion(origen, destino)\n",
        "            print(f\"Conexión agregada entre {origen} y {destino}.\")\n",
        "\n",
        "        elif opcion == \"2\":\n",
        "            print(\"\\nConexiones actuales:\")\n",
        "            for nodo, conexiones in mapa.grafo.items():\n",
        "                print(f\"{nodo} → {', '.join(conexiones)}\")\n",
        "\n",
        "        elif opcion == \"3\":\n",
        "            inicio = input(\"Nodo inicial: \")\n",
        "            fin = input(\"Nodo final: \")\n",
        "            mapa.camino_mas_corto(inicio, fin)\n",
        "\n",
        "        elif opcion == \"4\":\n",
        "            print(\"Saliendo del programa...\")\n",
        "            break\n",
        "\n",
        "        else:\n",
        "            print(\"Opción no válida, intenta de nuevo.\")\n",
        "\n",
        "# Programa principal\n",
        "menu()\n",
        "\n"
      ]
    }
  ]
}