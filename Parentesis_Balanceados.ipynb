{
  "nbformat": 4,
  "nbformat_minor": 0,
  "metadata": {
    "colab": {
      "provenance": [],
      "authorship_tag": "ABX9TyMC5YZwFKIPkT81gF9MHQpa",
      "include_colab_link": true
    },
    "kernelspec": {
      "name": "python3",
      "display_name": "Python 3"
    },
    "language_info": {
      "name": "python"
    }
  },
  "cells": [
    {
      "cell_type": "markdown",
      "metadata": {
        "id": "view-in-github",
        "colab_type": "text"
      },
      "source": [
        "<a href=\"https://colab.research.google.com/github/l24590562-cyber/10EjerciciosUnidad1/blob/main/Parentesis_Balanceados.ipynb\" target=\"_parent\"><img src=\"https://colab.research.google.com/assets/colab-badge.svg\" alt=\"Open In Colab\"/></a>"
      ]
    },
    {
      "cell_type": "code",
      "execution_count": 2,
      "metadata": {
        "colab": {
          "base_uri": "https://localhost:8080/"
        },
        "id": "h4EDmd5Q6cdG",
        "outputId": "9055c2fe-a51e-4132-fd65-fe6b37bfbb8a"
      },
      "outputs": [
        {
          "output_type": "stream",
          "name": "stdout",
          "text": [
            "\n",
            "\n",
            " ====== Bienvenidos a nuestro programa   ======\n",
            "\n",
            "\n",
            "Ingresa una expresión matemática: (3 + 7)\n",
            "La expresión es válida (paréntesis balanceados).\n",
            "\n",
            "\n",
            "  Gracias por utilizar nuestro programa :)).....\n",
            "\n",
            "\n"
          ]
        }
      ],
      "source": [
        "#Instituto Tecnológico de san Juan del Rio / Tecnológico Nacional de México\n",
        "#Brenda Avila Gutierrez\n",
        "#Ingenieria en Sistemas Computacionales\n",
        "#Estructura de datos\n",
        "#Grupo \"C\"\n",
        "#Practica 1, Parentesis Balanceados\n",
        "\n",
        "def parentesis_balanceados(expresion):\n",
        "    pila = []\n",
        "\n",
        "    for caracter in expresion:\n",
        "        if caracter == \"(\":\n",
        "            pila.append(caracter)\n",
        "        elif caracter == \")\":\n",
        "            if not pila:\n",
        "                return False\n",
        "            pila.pop()\n",
        "\n",
        "    return len(pila) == 0\n",
        "\n",
        "print(\"\\n\\n ====== Bienvenidos a nuestro programa   ======\\n\\n\")\n",
        "\n",
        "expresion = input(\"Ingresa una expresión matemática: \")\n",
        "\n",
        "if parentesis_balanceados(expresion):\n",
        "    print(\"La expresión es válida (paréntesis balanceados).\")\n",
        "else:\n",
        "    print(\"La expresión NO es válida (paréntesis desbalanceados).\")\n",
        "\n",
        "print(\"\\n\\n  Gracias por utilizar nuestro programa :)).....\\n\\n\")"
      ]
    }
  ]
}