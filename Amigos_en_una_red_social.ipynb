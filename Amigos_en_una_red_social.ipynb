{
  "nbformat": 4,
  "nbformat_minor": 0,
  "metadata": {
    "colab": {
      "provenance": [],
      "authorship_tag": "ABX9TyMw+agB2b7O9ZYMBywyN769",
      "include_colab_link": true
    },
    "kernelspec": {
      "name": "python3",
      "display_name": "Python 3"
    },
    "language_info": {
      "name": "python"
    }
  },
  "cells": [
    {
      "cell_type": "markdown",
      "metadata": {
        "id": "view-in-github",
        "colab_type": "text"
      },
      "source": [
        "<a href=\"https://colab.research.google.com/github/l24590562-cyber/10EjerciciosUnidad1/blob/main/Amigos_en_una_red_social.ipynb\" target=\"_parent\"><img src=\"https://colab.research.google.com/assets/colab-badge.svg\" alt=\"Open In Colab\"/></a>"
      ]
    },
    {
      "cell_type": "code",
      "execution_count": null,
      "metadata": {
        "id": "W8CMeStXA0LO"
      },
      "outputs": [],
      "source": [
        "#Instituto Tecnológico de san Juan del Rio / Tecnológico Nacional de México\n",
        "#Brenda Avila Gutierrez\n",
        "#Ingenieria en Sistemas Computacionales\n",
        "#Estructura de datos\n",
        "#Grupo \"C\"\n",
        "#Practica 9, Amigos en una Red social\n",
        "\n",
        "from collections import defaultdict\n",
        "\n",
        "class RedSocial:\n",
        "    def __init__(self):\n",
        "        self.red = defaultdict(set)\n",
        "\n",
        "    def agregar_amigo(self, persona1, persona2):\n",
        "        self.red[persona1].add(persona2)\n",
        "        self.red[persona2].add(persona1)\n",
        "        print(f\"{persona1} y {persona2} ahora son amigos.\")\n",
        "\n",
        "    def mostrar_red(self):\n",
        "        print(\"\\nLista de amistades:\")\n",
        "        for persona, amigos in self.red.items():\n",
        "            print(f\"{persona}: {', '.join(amigos) if amigos else 'Sin amigos aún'}\")\n",
        "\n",
        "    def sugerir_amigos(self, persona):\n",
        "        if persona not in self.red:\n",
        "            print(f\"{persona} no existe en la red.\")\n",
        "            return\n",
        "\n",
        "        sugerencias = set()\n",
        "\n",
        "        for amigo in self.red[persona]:\n",
        "            for amigo_de_amigo in self.red[amigo]:\n",
        "                if amigo_de_amigo != persona and amigo_de_amigo not in self.red[persona]:\n",
        "                    sugerencias.add(amigo_de_amigo)\n",
        "\n",
        "        if sugerencias:\n",
        "            print(f\"\\nSugerencias de amigos para {persona}: {', '.join(sugerencias)}\")\n",
        "        else:\n",
        "            print(f\"No hay sugerencias de amigos para {persona} por ahora.\")\n",
        "\n",
        "def menu():\n",
        "    red = RedSocial()\n",
        "\n",
        "    while True:\n",
        "        print(\"\\n--- Red Social ---\")\n",
        "        print(\"1. Agregar amistad\")\n",
        "        print(\"2. Mostrar red de amistades\")\n",
        "        print(\"3. Sugerir amigos\")\n",
        "        print(\"4. Salir\")\n",
        "\n",
        "        opcion = input(\"Elige una opción: \")\n",
        "\n",
        "        if opcion == \"1\":\n",
        "            persona1 = input(\"Nombre de la primera persona: \")\n",
        "            persona2 = input(\"Nombre de la segunda persona: \")\n",
        "            red.agregar_amigo(persona1, persona2)\n",
        "\n",
        "        elif opcion == \"2\":\n",
        "            red.mostrar_red()\n",
        "\n",
        "        elif opcion == \"3\":\n",
        "            persona = input(\"Ingresa el nombre de la persona: \")\n",
        "            red.sugerir_amigos(persona)\n",
        "\n",
        "        elif opcion == \"4\":\n",
        "            print(\"Cerrando la red social...\")\n",
        "            break\n",
        "\n",
        "        else:\n",
        "            print(\"Opción no válida, intenta de nuevo.\")\n",
        "\n",
        "# Programa principal\n",
        "menu()\n",
        "\n"
      ]
    }
  ]
}