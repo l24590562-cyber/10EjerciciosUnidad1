{
  "nbformat": 4,
  "nbformat_minor": 0,
  "metadata": {
    "colab": {
      "provenance": [],
      "authorship_tag": "ABX9TyPOrR3zZ0Udy2OggTJDh0XG",
      "include_colab_link": true
    },
    "kernelspec": {
      "name": "python3",
      "display_name": "Python 3"
    },
    "language_info": {
      "name": "python"
    }
  },
  "cells": [
    {
      "cell_type": "markdown",
      "metadata": {
        "id": "view-in-github",
        "colab_type": "text"
      },
      "source": [
        "<a href=\"https://colab.research.google.com/github/l24590562-cyber/10EjerciciosUnidad1/blob/main/Dijkstra_en_grafo_ponderado.ipynb\" target=\"_parent\"><img src=\"https://colab.research.google.com/assets/colab-badge.svg\" alt=\"Open In Colab\"/></a>"
      ]
    },
    {
      "cell_type": "code",
      "execution_count": null,
      "metadata": {
        "id": "pJL_EcJBBXWc"
      },
      "outputs": [],
      "source": [
        "#Instituto Tecnológico de san Juan del Rio / Tecnológico Nacional de México\n",
        "#Brenda Avila Gutierrez\n",
        "#Ingenieria en Sistemas Computacionales\n",
        "#Estructura de datos\n",
        "#Grupo \"C\"\n",
        "#Practica 10, Dijkstra en grafo ponderado\n",
        "\n",
        "import heapq\n",
        "from collections import defaultdict\n",
        "\n",
        "class Grafo:\n",
        "    def __init__(self):\n",
        "        self.grafo = defaultdict(list)\n",
        "\n",
        "    def agregar_arista(self, origen, destino, peso):\n",
        "        self.grafo[origen].append((destino, peso))\n",
        "        self.grafo[destino].append((origen, peso))\n",
        "        print(f\"Arista agregada: {origen} ↔ {destino} (peso: {peso})\")\n",
        "\n",
        "    def dijkstra(self, inicio):\n",
        "        distancias = {nodo: float('inf') for nodo in self.grafo}\n",
        "        distancias[inicio] = 0\n",
        "\n",
        "        cola_prioridad = [(0, inicio)]\n",
        "\n",
        "        while cola_prioridad:\n",
        "            distancia_actual, nodo_actual = heapq.heappop(cola_prioridad)\n",
        "\n",
        "            if distancia_actual > distancias[nodo_actual]:\n",
        "                continue\n",
        "\n",
        "            for vecino, peso in self.grafo[nodo_actual]:\n",
        "                nueva_distancia = distancia_actual + peso\n",
        "\n",
        "                if nueva_distancia < distancias[vecino]:\n",
        "                    distancias[vecino] = nueva_distancia\n",
        "                    heapq.heappush(cola_prioridad, (nueva_distancia, vecino))\n",
        "\n",
        "        print(f\"\\nDistancias más cortas desde '{inicio}':\")\n",
        "        for nodo, distancia in distancias.items():\n",
        "            if distancia == float('inf'):\n",
        "                print(f\"{nodo}:No alcanzable\")\n",
        "            else:\n",
        "                print(f\"{nodo}: {distancia}\")\n",
        "\n",
        "def menu():\n",
        "    mapa = Grafo()\n",
        "\n",
        "    while True:\n",
        "        print(\"\\n--- Algoritmo de Dijkstra (Grafo Ponderado) ---\")\n",
        "        print(\"1. Agregar arista\")\n",
        "        print(\"2. Mostrar grafo\")\n",
        "        print(\"3. Calcular caminos más cortos desde un nodo\")\n",
        "        print(\"4. Salir\")\n",
        "\n",
        "        opcion = input(\"Elige una opción: \")\n",
        "\n",
        "        if opcion == \"1\":\n",
        "            origen = input(\"Nodo de origen: \")\n",
        "            destino = input(\"Nodo de destino: \")\n",
        "            peso = int(input(\"Peso de la arista (distancia): \"))\n",
        "            mapa.agregar_arista(origen, destino, peso)\n",
        "\n",
        "        elif opcion == \"2\":\n",
        "            print(\"\\nConexiones actuales:\")\n",
        "            for nodo, conexiones in mapa.grafo.items():\n",
        "                print(f\"{nodo} → {', '.join([f'{vecino}({peso})' for vecino, peso in conexiones])}\")\n",
        "\n",
        "        elif opcion == \"3\":\n",
        "            inicio = input(\"Nodo inicial: \")\n",
        "            if inicio in mapa.grafo:\n",
        "                mapa.dijkstra(inicio)\n",
        "            else:\n",
        "                print(\"Ese nodo no existe en el grafo.\")\n",
        "\n",
        "        elif opcion == \"4\":\n",
        "            print(\"Saliendo del programa...\")\n",
        "            break\n",
        "\n",
        "        else:\n",
        "            print(\"Opción no válida, intenta de nuevo.\")\n",
        "\n",
        "# Programa principal\n",
        "menu()\n",
        "\n"
      ]
    }
  ]
}