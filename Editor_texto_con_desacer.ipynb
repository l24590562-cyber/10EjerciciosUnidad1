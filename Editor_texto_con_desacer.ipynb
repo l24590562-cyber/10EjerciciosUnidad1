{
  "nbformat": 4,
  "nbformat_minor": 0,
  "metadata": {
    "colab": {
      "provenance": [],
      "authorship_tag": "ABX9TyPOKBcUblMdJU/c5+JjkNLN",
      "include_colab_link": true
    },
    "kernelspec": {
      "name": "python3",
      "display_name": "Python 3"
    },
    "language_info": {
      "name": "python"
    }
  },
  "cells": [
    {
      "cell_type": "markdown",
      "metadata": {
        "id": "view-in-github",
        "colab_type": "text"
      },
      "source": [
        "<a href=\"https://colab.research.google.com/github/l24590562-cyber/10EjerciciosUnidad1/blob/main/Editor_texto_con_desacer.ipynb\" target=\"_parent\"><img src=\"https://colab.research.google.com/assets/colab-badge.svg\" alt=\"Open In Colab\"/></a>"
      ]
    },
    {
      "cell_type": "code",
      "execution_count": 2,
      "metadata": {
        "colab": {
          "base_uri": "https://localhost:8080/"
        },
        "id": "vCSJ0Dwr8qhn",
        "outputId": "f19edd99-8218-46bb-ff6f-e47b8a4d7f3c"
      },
      "outputs": [
        {
          "output_type": "stream",
          "name": "stdout",
          "text": [
            "\n",
            "--- Editor de texto ---\n",
            "1. Escribir una operación\n",
            "2. Deshacer última operación\n",
            "3. Mostrar historial de operaciones\n",
            "4. Salir\n",
            "Elige una opción: hola\n",
            "Opción no válida, intenta de nuevo.\n",
            "\n",
            "--- Editor de texto ---\n",
            "1. Escribir una operación\n",
            "2. Deshacer última operación\n",
            "3. Mostrar historial de operaciones\n",
            "4. Salir\n",
            "Elige una opción: 1\n",
            "Escribe la operación realizada (por ejemplo: 'Escribir palabra', 'Borrar línea'): hola\n",
            "Operación guardada.\n",
            "\n",
            "--- Editor de texto ---\n",
            "1. Escribir una operación\n",
            "2. Deshacer última operación\n",
            "3. Mostrar historial de operaciones\n",
            "4. Salir\n",
            "Elige una opción: 2\n",
            "Se ha deshecho la última operación: hola.\n",
            "\n",
            "--- Editor de texto ---\n",
            "1. Escribir una operación\n",
            "2. Deshacer última operación\n",
            "3. Mostrar historial de operaciones\n",
            "4. Salir\n",
            "Elige una opción: 3\n",
            " No hay operaciones registradas.\n",
            "\n",
            "--- Editor de texto ---\n",
            "1. Escribir una operación\n",
            "2. Deshacer última operación\n",
            "3. Mostrar historial de operaciones\n",
            "4. Salir\n",
            "Elige una opción: 4\n",
            "Saliendo del editor...\n"
          ]
        }
      ],
      "source": [
        "#Instituto Tecnológico de san Juan del Rio / Tecnológico Nacional de México\n",
        "#Brenda Avila Gutierrez\n",
        "#Ingenieria en Sistemas Computacionales\n",
        "#Estructura de datos\n",
        "#Grupo \"C\"\n",
        "#Practica 3, Editor de texto\n",
        "\n",
        "def mostrar_menu():\n",
        "    print(\"\\n--- Editor de texto ---\")\n",
        "    print(\"1. Escribir una operación\")\n",
        "    print(\"2. Deshacer última operación\")\n",
        "    print(\"3. Mostrar historial de operaciones\")\n",
        "    print(\"4. Salir\")\n",
        "\n",
        "def editor_de_texto():\n",
        "    pila = []\n",
        "\n",
        "    while True:\n",
        "        mostrar_menu()\n",
        "        opcion = input(\"Elige una opción: \")\n",
        "\n",
        "        if opcion == \"1\":\n",
        "            operacion = input(\"Escribe la operación realizada (por ejemplo: 'Escribir palabra', 'Borrar línea'): \")\n",
        "            pila.append(operacion)\n",
        "            print(\"Operación guardada.\")\n",
        "\n",
        "        elif opcion == \"2\":\n",
        "            if pila:\n",
        "                ultima = pila.pop()\n",
        "                print(\"Se ha deshecho la última operación: \"+str(ultima)+\".\")\n",
        "            else:\n",
        "                print(\"No hay operaciones para deshacer.\")\n",
        "\n",
        "        elif opcion == \"3\":\n",
        "            if pila:\n",
        "                print(\"\\n Historial de operaciones:\")\n",
        "                for i, op in enumerate(pila, 1):\n",
        "                    print(f\"{i}. {op}\")\n",
        "            else:\n",
        "                print(\" No hay operaciones registradas.\")\n",
        "\n",
        "        elif opcion == \"4\":\n",
        "            print(\"Saliendo del editor...\")\n",
        "            break\n",
        "\n",
        "        else:\n",
        "            print(\"Opción no válida, intenta de nuevo.\")\n",
        "\n",
        "editor_de_texto()\n"
      ]
    }
  ]
}