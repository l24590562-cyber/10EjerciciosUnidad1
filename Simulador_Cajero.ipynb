{
  "nbformat": 4,
  "nbformat_minor": 0,
  "metadata": {
    "colab": {
      "provenance": [],
      "authorship_tag": "ABX9TyPonwnX+DFbXg2PGlNbAJil",
      "include_colab_link": true
    },
    "kernelspec": {
      "name": "python3",
      "display_name": "Python 3"
    },
    "language_info": {
      "name": "python"
    }
  },
  "cells": [
    {
      "cell_type": "markdown",
      "metadata": {
        "id": "view-in-github",
        "colab_type": "text"
      },
      "source": [
        "<a href=\"https://colab.research.google.com/github/l24590562-cyber/10EjerciciosUnidad1/blob/main/Simulador_Cajero.ipynb\" target=\"_parent\"><img src=\"https://colab.research.google.com/assets/colab-badge.svg\" alt=\"Open In Colab\"/></a>"
      ]
    },
    {
      "cell_type": "code",
      "execution_count": null,
      "metadata": {
        "id": "UQ_zwuaF-4C4"
      },
      "outputs": [],
      "source": [
        "#Instituto Tecnológico de san Juan del Rio / Tecnológico Nacional de México\n",
        "#Brenda Avila Gutierrez\n",
        "#Ingenieria en Sistemas Computacionales\n",
        "#Estructura de datos\n",
        "#Grupo \"C\"\n",
        "#Practica 4, Cajero Automatico\n",
        "\n",
        "from collections import deque\n",
        "\n",
        "def mostrar_menu():\n",
        "    print(\"\\n--- Cajero Automático ---\")\n",
        "    print(\"1. Agregar cliente a la fila\")\n",
        "    print(\"2. Atender cliente\")\n",
        "    print(\"3. Mostrar fila actual\")\n",
        "    print(\"4. Salir\")\n",
        "\n",
        "def cajero_automatico():\n",
        "    cola = deque()  # Cola vacía\n",
        "\n",
        "    while True:\n",
        "        mostrar_menu()\n",
        "        opcion = input(\"Elige una opción: \")\n",
        "\n",
        "        if opcion == \"1\":\n",
        "            nombre = input(\"Ingresa el nombre del cliente: \")\n",
        "            transaccion = input(\"Tipo de transacción (retiro, depósito, consulta): \")\n",
        "            cliente = {\"nombre\": nombre, \"transaccion\": transaccion}\n",
        "            cola.append(cliente)\n",
        "            print(\"Cliente \"+str(nombre)+\" agregado a la fila.\")\n",
        "\n",
        "        elif opcion == \"2\":\n",
        "            if cola:\n",
        "                cliente = cola.popleft()\n",
        "                print(f\" Atendiendo a {cliente['nombre']} (Transacción: {cliente['transaccion']})\")\n",
        "            else:\n",
        "                print(\"No hay clientes en la fila.\")\n",
        "\n",
        "        elif opcion == \"3\":\n",
        "            if cola:\n",
        "                print(\"\\nClientes en la fila:\")\n",
        "                for i, c in enumerate(cola, 1):\n",
        "                    print(f\"{i}. {c['nombre']} - {c['transaccion']}\")\n",
        "            else:\n",
        "                print(\"La fila está vacía.\")\n",
        "\n",
        "        elif opcion == \"4\":\n",
        "            print(\"Cerrando el cajero automático...\")\n",
        "            break\n",
        "\n",
        "        else:\n",
        "            print(\"Opción no válida, intenta de nuevo.\")\n",
        "\n",
        "cajero_automatico()\n",
        "print(\"\\n Gracias ´Por utilizar nuestro programa :))...\\n\")\n"
      ]
    }
  ]
}