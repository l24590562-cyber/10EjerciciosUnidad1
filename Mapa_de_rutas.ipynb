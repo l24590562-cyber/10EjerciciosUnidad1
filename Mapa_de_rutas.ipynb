{
  "nbformat": 4,
  "nbformat_minor": 0,
  "metadata": {
    "colab": {
      "provenance": [],
      "authorship_tag": "ABX9TyP9+NoHHRUJ1ACpZuqOjKuU",
      "include_colab_link": true
    },
    "kernelspec": {
      "name": "python3",
      "display_name": "Python 3"
    },
    "language_info": {
      "name": "python"
    }
  },
  "cells": [
    {
      "cell_type": "markdown",
      "metadata": {
        "id": "view-in-github",
        "colab_type": "text"
      },
      "source": [
        "<a href=\"https://colab.research.google.com/github/l24590562-cyber/10EjerciciosUnidad1/blob/main/Mapa_de_rutas.ipynb\" target=\"_parent\"><img src=\"https://colab.research.google.com/assets/colab-badge.svg\" alt=\"Open In Colab\"/></a>"
      ]
    },
    {
      "cell_type": "code",
      "execution_count": null,
      "metadata": {
        "id": "I-KjYavPAFll"
      },
      "outputs": [],
      "source": [
        "#Instituto Tecnológico de san Juan del Rio / Tecnológico Nacional de México\n",
        "#Brenda Avila Gutierrez\n",
        "#Ingenieria en Sistemas Computacionales\n",
        "#Estructura de datos\n",
        "#Grupo \"C\"\n",
        "#Practica 7, Mapa de Rutas\n",
        "\n",
        "from collections import defaultdict\n",
        "\n",
        "class Grafo:\n",
        "    def __init__(self):\n",
        "        self.grafo = defaultdict(list)\n",
        "\n",
        "    def agregar_carretera(self, origen, destino):\n",
        "        self.grafo[origen].append(destino)\n",
        "        self.grafo[destino].append(origen)\n",
        "\n",
        "    def buscar_caminos(self, inicio, fin, camino_actual=None):\n",
        "        if camino_actual is None:\n",
        "            camino_actual = []\n",
        "\n",
        "        camino_actual.append(inicio)\n",
        "\n",
        "        if inicio == fin:\n",
        "            print(\" → \".join(camino_actual))\n",
        "        else:\n",
        "            for ciudad in self.grafo[inicio]:\n",
        "                if ciudad not in camino_actual:\n",
        "                    self.buscar_caminos(ciudad, fin, list(camino_actual))\n",
        "\n",
        "def menu():\n",
        "    mapa = Grafo()\n",
        "\n",
        "    while True:\n",
        "        print(\"\\n--- Mapa de Rutas (Grafos) ---\")\n",
        "        print(\"1. Agregar carretera entre ciudades\")\n",
        "        print(\"2. Mostrar todas las conexiones\")\n",
        "        print(\"3. Buscar todos los caminos entre dos ciudades\")\n",
        "        print(\"4. Salir\")\n",
        "\n",
        "        opcion = input(\"Elige una opción: \")\n",
        "\n",
        "        if opcion == \"1\":\n",
        "            origen = input(\"Ciudad de origen: \")\n",
        "            destino = input(\"Ciudad de destino: \")\n",
        "            mapa.agregar_carretera(origen, destino)\n",
        "            print(f\"Carretera agregada entre {origen} y {destino}.\")\n",
        "\n",
        "        elif opcion == \"2\":\n",
        "            print(\"\\nConexiones actuales:\")\n",
        "            for ciudad, conexiones in mapa.grafo.items():\n",
        "                print(f\"{ciudad} → {', '.join(conexiones)}\")\n",
        "\n",
        "        elif opcion == \"3\":\n",
        "            inicio = input(\"Ciudad de inicio: \")\n",
        "            fin = input(\"Ciudad de destino: \")\n",
        "            print(f\"\\nCaminos posibles de {inicio} a {fin}:\")\n",
        "            mapa.buscar_caminos(inicio, fin)\n",
        "\n",
        "        elif opcion == \"4\":\n",
        "            print(\"Cerrando el mapa de rutas...\")\n",
        "            break\n",
        "\n",
        "        else:\n",
        "            print(\"Opción no válida, intenta de nuevo.\")\n",
        "\n",
        "# Programa principal\n",
        "menu()\n",
        "\n"
      ]
    }
  ]
}