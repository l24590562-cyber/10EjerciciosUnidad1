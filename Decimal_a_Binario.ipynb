{
  "nbformat": 4,
  "nbformat_minor": 0,
  "metadata": {
    "colab": {
      "provenance": [],
      "authorship_tag": "ABX9TyP1oxa8AijJP7Ok7+OHHnW0",
      "include_colab_link": true
    },
    "kernelspec": {
      "name": "python3",
      "display_name": "Python 3"
    },
    "language_info": {
      "name": "python"
    }
  },
  "cells": [
    {
      "cell_type": "markdown",
      "metadata": {
        "id": "view-in-github",
        "colab_type": "text"
      },
      "source": [
        "<a href=\"https://colab.research.google.com/github/l24590562-cyber/10EjerciciosUnidad1/blob/main/Decimal_a_Binario.ipynb\" target=\"_parent\"><img src=\"https://colab.research.google.com/assets/colab-badge.svg\" alt=\"Open In Colab\"/></a>"
      ]
    },
    {
      "cell_type": "code",
      "execution_count": 1,
      "metadata": {
        "colab": {
          "base_uri": "https://localhost:8080/"
        },
        "id": "pQfzni4Z8GG8",
        "outputId": "f8a4756f-549d-4992-db83-aff83901b5a1"
      },
      "outputs": [
        {
          "output_type": "stream",
          "name": "stdout",
          "text": [
            "\n",
            "\n",
            " ====== Bienvenidos a nuestro programa   ======\n",
            "\n",
            "\n",
            "Ingresa un número decimal: 12\n",
            "El número 12 en binario es: 1100.\n",
            "\n",
            "\n",
            "  Gracias por urilizar nuestro programa :)).....\n",
            "\n",
            "\n"
          ]
        }
      ],
      "source": [
        "#Instituto Tecnológico de san Juan del Rio / Tecnológico Nacional de México\n",
        "#Brenda Avila Gutierrez\n",
        "#Ingenieria en Sistemas Computacionales\n",
        "#Estructura de datos\n",
        "#Grupo \"C\"\n",
        "#Practica 2, Decimal a Binario\n",
        "\n",
        "def decimal_a_binario(numero):\n",
        "    pila = []\n",
        "\n",
        "\n",
        "    while numero > 0:\n",
        "        residuo = numero % 2\n",
        "        pila.append(residuo)\n",
        "        numero = numero // 2\n",
        "\n",
        "\n",
        "    binario = \"\"\n",
        "    while pila:\n",
        "        binario += str(pila.pop())\n",
        "\n",
        "    return binario\n",
        "\n",
        "\n",
        "print(\"\\n\\n ====== Bienvenidos a nuestro programa   ======\\n\\n\")\n",
        "decimal = int(input(\"Ingresa un número decimal: \"))\n",
        "binario = decimal_a_binario(decimal)\n",
        "print(\"El número \"+str(decimal)+\" en binario es: \"+str(binario)+\".\")\n",
        "\n",
        "print(\"\\n\\n  Gracias por urilizar nuestro programa :)).....\\n\\n\")"
      ]
    }
  ]
}